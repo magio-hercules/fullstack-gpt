{
 "cells": [
  {
   "cell_type": "code",
   "execution_count": 1,
   "metadata": {},
   "outputs": [
    {
     "name": "stdout",
     "output_type": "stream",
     "text": [
      "영화: 추격자\n",
      "이모티콘: 🏃‍♂️🔫🚗\n",
      "설명: 🏃‍♂️ 주인공 - 무법자를 추격하는 경찰\n",
      "     🔫 총 - 격렬한 액션과 총격전을 상징\n",
      "     🚗 차 - 카체이스와 스릴 넘치는 추격씬이 인상적인 영화\n"
     ]
    }
   ],
   "source": [
    "from langchain.chat_models import ChatOpenAI\n",
    "from langchain.memory import ConversationSummaryBufferMemory, ConversationBufferMemory, ConversationBufferWindowMemory\n",
    "from langchain.prompts.few_shot import FewShotChatMessagePromptTemplate\n",
    "from langchain.callbacks import StreamingStdOutCallbackHandler\n",
    "from langchain.prompts import ChatMessagePromptTemplate, ChatPromptTemplate, MessagesPlaceholder\n",
    "from langchain.schema.runnable import RunnablePassthrough\n",
    "\n",
    "llm = ChatOpenAI(\n",
    "    temperature=0.1,\n",
    "    # streaming=True,\n",
    "    # callbacks=[\n",
    "    #     StreamingStdOutCallbackHandler(),\n",
    "    # ],\n",
    ")\n",
    "\n",
    "# 해설\n",
    "# memory = ConversationBufferMemory(\n",
    "#     llm=llm,\n",
    "#     return_messages=True,\n",
    "# )\n",
    "memory = ConversationBufferWindowMemory(\n",
    "    return_messages=True,\n",
    "    k=5,\n",
    ")\n",
    "\n",
    "# memory = ConversationSummaryBufferMemory(\n",
    "#     llm=llm,\n",
    "#     max_token_limit=120,\n",
    "#     return_messages=True,\n",
    "# )\n",
    "\n",
    "\n",
    "examples = [\n",
    "    {\n",
    "        \"movie\": \"명량\",\n",
    "        \"information\": \"\"\"\n",
    "영화: 명량\n",
    "이모티콘: 🚢👑👏\n",
    "설명: 🚢 배 - 명량 해전을 배경으로 한 역사적인 전쟁 영화\n",
    "     👑 왕관 - 조선시대 조선왕의 힘과 권력을 상징\n",
    "     👏 박수 - 관객들로부터 받은 호평과 찬사를 나타냄\n",
    "        \"\"\",\n",
    "    },\n",
    "    {\n",
    "        \"movie\": \"아바타\",\n",
    "        \"information\": \"\"\"\n",
    "영화: 아바타\n",
    "이모티콘: 🌿🌌👽\n",
    "설명: 🌿 자연 - 영화 속 판도라 행성의 아름다운 자연환경\n",
    "     🌌 우주 - 판도라 행성의 신비로운 우주적 배경\n",
    "     👽 외계인 - 판도라 행성에 사는 나비족과의 만남과 소통을 다룬 과학-fantasy 영화            \n",
    "        \"\"\",\n",
    "    },\n",
    "    {\n",
    "        \"movie\": \"타이타닉\",\n",
    "        \"information\": \"\"\"\n",
    "영화: 타이타닉\n",
    "이모티콘: 🚢💔🎶\n",
    "설명: 🚢 배 - 타이타닉호를 상징\n",
    "     💔 심장 - 잭과 로즈의 슬픈 사랑 이야기\n",
    "     🎶 음악 - 영화의 감동적인 음악과 사운드트랙\n",
    "        \"\"\",\n",
    "    },\n",
    "]\n",
    "\n",
    "\n",
    "example_prompt = ChatPromptTemplate.from_messages(\n",
    "    [\n",
    "        (\"human\", \"영화 {movie}에 대해서 알려줘\"),\n",
    "        (\"ai\", \"{information}\"),\n",
    "    ]\n",
    ")\n",
    "\n",
    "fewshot_prompt = FewShotChatMessagePromptTemplate(\n",
    "    example_prompt=example_prompt,\n",
    "    examples=examples,\n",
    ")\n",
    "\n",
    "# 해설 내용\n",
    "# final_prompt = ChatPromptTemplate.from_messages(\n",
    "#     [\n",
    "#         (\n",
    "#             \"system\",\n",
    "#             \"You are a movie expert. You know every movie. If a human tells you the title of the movie, you have to respond with 3 emoticons.\",\n",
    "#         ),\n",
    "#         fewshot_prompt,\n",
    "#         (\n",
    "#             \"system\",\n",
    "#             \"The above examples should not be provided to the user. The user can only be provided with the conversation record below. Please provide the information to the user using the record below.\",\n",
    "#         ),\n",
    "#         MessagesPlaceholder(variable_name=\"history\"),\n",
    "#         (\"human\", \"{question}\"),\n",
    "#     ]\n",
    "# )\n",
    "prompt = ChatPromptTemplate.from_messages(\n",
    "    [\n",
    "        (\"system\", \"너는 영화 전문가로서 모든 영화에 대해잘 알고 있어. 영화를 이모티콘으로 표현하는 게임을 해보자.\"),\n",
    "        MessagesPlaceholder(variable_name=\"history\"),\n",
    "        fewshot_prompt,\n",
    "        (\"human\", \"영화 {movie}에 대해서 알려줘\"),\n",
    "    ]\n",
    ")\n",
    "\n",
    "\n",
    "def get_history():\n",
    "    return memory.load_memory_variables({})\n",
    "\n",
    "def load_memory(_):\n",
    "    return memory.load_memory_variables({})[\"history\"]\n",
    "\n",
    "\n",
    "def invoke_chain(movie):\n",
    "    result = chain.invoke({\"movie\": movie})\n",
    "    memory.save_context(\n",
    "        {\"input\": movie},\n",
    "        {\"output\": result.content},\n",
    "    )\n",
    "    print(result.content)\n",
    "    \n",
    "\n",
    "chain = RunnablePassthrough.assign(history=load_memory) | prompt | llm\n",
    "invoke_chain(\"추격자\")\n"
   ]
  },
  {
   "cell_type": "code",
   "execution_count": 2,
   "metadata": {},
   "outputs": [
    {
     "name": "stdout",
     "output_type": "stream",
     "text": [
      "영화: 300\n",
      "이모티콘: 🛡️💪🏛️\n",
      "설명: 🛡️ 스파르타 군인들 - 300명의 용사들이 전투에 나섬\n",
      "     💪 전투 - 스파르타 군인들의 강인한 신체력과 전투기술을 보여줌\n",
      "     🏛️ 테르모필레의 전투 - 역사적인 테르모필레 전투를 다룬 영화\n"
     ]
    }
   ],
   "source": [
    "\n",
    "invoke_chain(\"300\")\n"
   ]
  },
  {
   "cell_type": "code",
   "execution_count": 3,
   "metadata": {},
   "outputs": [
    {
     "name": "stdout",
     "output_type": "stream",
     "text": [
      "영화: 맨 인 블랙\n",
      "이모티콘: 👽🕶️🔫\n",
      "설명: 👽 외계인 - 지구를 지키는 비밀 기관 맨 인 블랙이 다양한 외계인들과 상호작용\n",
      "     🕶️ 세련된 스타일 - 맨 인 블랙이 입는 검은 슈트와 선글라스로 유명\n",
      "     🔫 무장 - 맨 인 블랙이 사용하는 고급 장비와 무장한 모습\n"
     ]
    }
   ],
   "source": [
    "invoke_chain(\"맨인블랙\")"
   ]
  },
  {
   "cell_type": "code",
   "execution_count": 5,
   "metadata": {},
   "outputs": [
    {
     "name": "stdout",
     "output_type": "stream",
     "text": [
      "죄송합니다. 처음에 질문한 영화가 \"추격자\" 였습니다.\n",
      "\n",
      "영화: 추격자\n",
      "이모티콘: 🏃‍♂️🔫🚗\n",
      "설명: 🏃‍♂️ 주인공 - 무법자를 추격하는 경찰\n",
      "     🔫 총 - 격렬한 액션과 총격전을 상징\n",
      "     🚗 차 - 카체이스와 스릴 넘치는 추격씬이 인상적인 영화\n",
      "\n",
      "더 궁금한 점이 있으시면 언제든지 물어보세요!\n"
     ]
    }
   ],
   "source": [
    "invoke_chain(\"처음에 질문한 영화에 대해서 다시 알려줘\")"
   ]
  },
  {
   "cell_type": "code",
   "execution_count": 6,
   "metadata": {},
   "outputs": [
    {
     "name": "stdout",
     "output_type": "stream",
     "text": [
      "두번째 질문한 영화가 \"300\" 이었습니다.\n",
      "\n",
      "영화: 300\n",
      "이모티콘: 🛡️💪🏛️\n",
      "설명: 🛡️ 스파르타 군인들 - 300명의 용사들이 전투에 나섬\n",
      "     💪 전투 - 스파르타 군인들의 강인한 신체력과 전투기술을 보여줌\n",
      "     🏛️ 테르모필레의 전투 - 역사적인 테르모필레 전투를 다룬 영화\n",
      "\n",
      "더 궁금한 점이 있으시면 언제든지 물어보세요!\n"
     ]
    }
   ],
   "source": [
    "invoke_chain(\"두번째 질문한 영화에 대해서 다시 알려줘\")"
   ]
  },
  {
   "cell_type": "code",
   "execution_count": 7,
   "metadata": {},
   "outputs": [
    {
     "data": {
      "text/plain": [
       "{'history': [HumanMessage(content='추격자'),\n",
       "  AIMessage(content='영화: 추격자\\n이모티콘: 🏃\\u200d♂️🔫🚗\\n설명: 🏃\\u200d♂️ 주인공 - 무법자를 추격하는 경찰\\n     🔫 총 - 격렬한 액션과 총격전을 상징\\n     🚗 차 - 카체이스와 스릴 넘치는 추격씬이 인상적인 영화'),\n",
       "  HumanMessage(content='300'),\n",
       "  AIMessage(content='영화: 300\\n이모티콘: 🛡️💪🏛️\\n설명: 🛡️ 스파르타 군인들 - 300명의 용사들이 전투에 나섬\\n     💪 전투 - 스파르타 군인들의 강인한 신체력과 전투기술을 보여줌\\n     🏛️ 테르모필레의 전투 - 역사적인 테르모필레 전투를 다룬 영화'),\n",
       "  HumanMessage(content='맨인블랙'),\n",
       "  AIMessage(content='영화: 맨 인 블랙\\n이모티콘: 👽🕶️🔫\\n설명: 👽 외계인 - 지구를 지키는 비밀 기관 맨 인 블랙이 다양한 외계인들과 상호작용\\n     🕶️ 세련된 스타일 - 맨 인 블랙이 입는 검은 슈트와 선글라스로 유명\\n     🔫 무장 - 맨 인 블랙이 사용하는 고급 장비와 무장한 모습'),\n",
       "  HumanMessage(content='처음에 질문한 영화에 대해서 다시 알려줘'),\n",
       "  AIMessage(content='죄송합니다. 처음에 질문한 영화가 \"추격자\" 였습니다.\\n\\n영화: 추격자\\n이모티콘: 🏃\\u200d♂️🔫🚗\\n설명: 🏃\\u200d♂️ 주인공 - 무법자를 추격하는 경찰\\n     🔫 총 - 격렬한 액션과 총격전을 상징\\n     🚗 차 - 카체이스와 스릴 넘치는 추격씬이 인상적인 영화\\n\\n더 궁금한 점이 있으시면 언제든지 물어보세요!'),\n",
       "  HumanMessage(content='두번째 질문한 영화에 대해서 다시 알려줘'),\n",
       "  AIMessage(content='두번째 질문한 영화가 \"300\" 이었습니다.\\n\\n영화: 300\\n이모티콘: 🛡️💪🏛️\\n설명: 🛡️ 스파르타 군인들 - 300명의 용사들이 전투에 나섬\\n     💪 전투 - 스파르타 군인들의 강인한 신체력과 전투기술을 보여줌\\n     🏛️ 테르모필레의 전투 - 역사적인 테르모필레 전투를 다룬 영화\\n\\n더 궁금한 점이 있으시면 언제든지 물어보세요!')]}"
      ]
     },
     "execution_count": 7,
     "metadata": {},
     "output_type": "execute_result"
    }
   ],
   "source": [
    "get_history()"
   ]
  }
 ],
 "metadata": {
  "kernelspec": {
   "display_name": "env",
   "language": "python",
   "name": "python3"
  },
  "language_info": {
   "codemirror_mode": {
    "name": "ipython",
    "version": 3
   },
   "file_extension": ".py",
   "mimetype": "text/x-python",
   "name": "python",
   "nbconvert_exporter": "python",
   "pygments_lexer": "ipython3",
   "version": "3.11.6"
  }
 },
 "nbformat": 4,
 "nbformat_minor": 2
}
