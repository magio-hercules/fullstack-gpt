{
 "cells": [
  {
   "cell_type": "code",
   "execution_count": 14,
   "metadata": {},
   "outputs": [
    {
     "data": {
      "text/plain": [
       "'{\"questions\":[{\"question\":\"어떤 제국이 로마 제국을 정복했나요?\",\"answers\":[{\"answer\":\"카르타고\",\"correct\":false},{\"answer\":\"프랑스\",\"correct\":false},{\"answer\":\"그리스\",\"correct\":false},{\"answer\":\"스페인\",\"correct\":true}]},{\"question\":\"로마 제국의 수도는 어디에 있었나요?\",\"answers\":[{\"answer\":\"파리\",\"correct\":false},{\"answer\":\"로마\",\"correct\":true},{\"answer\":\"아테네\",\"correct\":false},{\"answer\":\"마드리드\",\"correct\":false}]},{\"question\":\"로마 제국의 창시자는 누구인가요?\",\"answers\":[{\"answer\":\"율리우스 시저\",\"correct\":false},{\"answer\":\"아우구스투스\",\"correct\":true},{\"answer\":\"네로\",\"correct\":false},{\"answer\":\"카이사르\",\"correct\":false}]}]}'"
      ]
     },
     "execution_count": 14,
     "metadata": {},
     "output_type": "execute_result"
    }
   ],
   "source": [
    "import json\n",
    "from langchain.document_loaders import UnstructuredFileLoader\n",
    "from langchain.text_splitter import CharacterTextSplitter\n",
    "from langchain.chat_models import ChatOpenAI\n",
    "from langchain.prompts import PromptTemplate\n",
    "from langchain.callbacks import StreamingStdOutCallbackHandler\n",
    "import streamlit as st\n",
    "from langchain.retrievers import WikipediaRetriever\n",
    "from langchain.schema import BaseOutputParser, output_parser\n",
    "\n",
    "\n",
    "\n",
    "function = {\n",
    "    \"name\": \"create_quiz\",\n",
    "    \"description\": \"이 function은 주어진 제시어를 이용해 문제와 답안이 있는 퀴즈를 만들어 준다. 질문과 답변은 한국어로 만들어줘.\",\n",
    "    # \"description\": \"function that takes a list of questions and answers and returns a quiz\",\n",
    "    \"parameters\": {\n",
    "        \"type\": \"object\",\n",
    "        \"properties\": {\n",
    "            \"questions\": {\n",
    "                \"type\": \"array\",\n",
    "                \"items\": {\n",
    "                    \"type\": \"object\",\n",
    "                    \"properties\": {\n",
    "                        \"question\": {\n",
    "                            \"type\": \"string\",\n",
    "                        },\n",
    "                        \"answers\": {\n",
    "                            \"type\": \"array\",\n",
    "                            \"items\": {\n",
    "                                \"type\": \"object\",\n",
    "                                \"properties\": {\n",
    "                                    \"answer\": {\n",
    "                                        \"type\":\"string\",\n",
    "                                    },\n",
    "                                    \"correct\": {\n",
    "                                        \"type\": \"boolean\",\n",
    "                                    },\n",
    "                                },\n",
    "                                \"required\": [\"answer\", \"correct\"],\n",
    "                            },\n",
    "                        },\n",
    "                    },\n",
    "                    \"required\": [\"question\", \"answers\"],\n",
    "                },\n",
    "            },\n",
    "        },\n",
    "        \"required\": [\"questions\"],\n",
    "    },\n",
    "}\n",
    "\n",
    "\n",
    "\n",
    "llm = ChatOpenAI(\n",
    "    temperature=0.1,\n",
    ").bind(\n",
    "    function_call={\n",
    "        \"name\": \"create_quiz\",\n",
    "    },\n",
    "    functions=[\n",
    "        function,\n",
    "    ]\n",
    ")\n",
    "\n",
    "\n",
    "prompt = PromptTemplate.from_template(\"Make a quiz about {city}\")\n",
    "\n",
    "chain = prompt | llm\n",
    "\n",
    "response = chain.invoke({\"city\": \"rome\"})\n",
    "\n",
    "response = response.additional_kwargs[\"function_call\"][\"arguments\"]\n",
    "\n",
    "response\n"
   ]
  },
  {
   "cell_type": "code",
   "execution_count": 15,
   "metadata": {},
   "outputs": [
    {
     "data": {
      "text/plain": [
       "{'questions': [{'question': '어떤 제국이 로마 제국을 정복했나요?',\n",
       "   'answers': [{'answer': '카르타고', 'correct': False},\n",
       "    {'answer': '프랑스', 'correct': False},\n",
       "    {'answer': '그리스', 'correct': False},\n",
       "    {'answer': '스페인', 'correct': True}]},\n",
       "  {'question': '로마 제국의 수도는 어디에 있었나요?',\n",
       "   'answers': [{'answer': '파리', 'correct': False},\n",
       "    {'answer': '로마', 'correct': True},\n",
       "    {'answer': '아테네', 'correct': False},\n",
       "    {'answer': '마드리드', 'correct': False}]},\n",
       "  {'question': '로마 제국의 창시자는 누구인가요?',\n",
       "   'answers': [{'answer': '율리우스 시저', 'correct': False},\n",
       "    {'answer': '아우구스투스', 'correct': True},\n",
       "    {'answer': '네로', 'correct': False},\n",
       "    {'answer': '카이사르', 'correct': False}]}]}"
      ]
     },
     "execution_count": 15,
     "metadata": {},
     "output_type": "execute_result"
    }
   ],
   "source": [
    "import json \n",
    "\n",
    "json.loads(response)\n",
    "# response\n",
    "# response[\"questions\"]"
   ]
  }
 ],
 "metadata": {
  "kernelspec": {
   "display_name": "env",
   "language": "python",
   "name": "python3"
  },
  "language_info": {
   "codemirror_mode": {
    "name": "ipython",
    "version": 3
   },
   "file_extension": ".py",
   "mimetype": "text/x-python",
   "name": "python",
   "nbconvert_exporter": "python",
   "pygments_lexer": "ipython3",
   "version": "3.11.6"
  }
 },
 "nbformat": 4,
 "nbformat_minor": 2
}
