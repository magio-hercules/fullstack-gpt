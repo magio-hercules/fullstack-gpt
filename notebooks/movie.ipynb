{
 "cells": [
  {
   "cell_type": "code",
   "execution_count": 10,
   "metadata": {},
   "outputs": [
    {
     "name": "stdout",
     "output_type": "stream",
     "text": [
      "영화 : 베테랑 (Veteran)\n",
      "장르 : 액션, 범죄, 코미디\n",
      "감독 : 류승완\n",
      "주요 출연진 : 황정민, 유아인, 유해진\n",
      "예산 : 약 100억 원\n",
      "흥행 수익 : 약 1050억 원\n",
      "시놉시스 : 한국의 부패한 경찰 조직을 고발하고 싸우는 형사와 부자 사업가 간의 대치를 그린 영화로, 액션과 유머를 결합하여 관객들에게 재미와 긴장감을 선사한 작품이다. 베테랑은 한국 영화 역사상 흥행 기록을 세우며 큰 주목을 받았다."
     ]
    },
    {
     "data": {
      "text/plain": [
       "AIMessageChunk(content='영화 : 베테랑 (Veteran)\\n장르 : 액션, 범죄, 코미디\\n감독 : 류승완\\n주요 출연진 : 황정민, 유아인, 유해진\\n예산 : 약 100억 원\\n흥행 수익 : 약 1050억 원\\n시놉시스 : 한국의 부패한 경찰 조직을 고발하고 싸우는 형사와 부자 사업가 간의 대치를 그린 영화로, 액션과 유머를 결합하여 관객들에게 재미와 긴장감을 선사한 작품이다. 베테랑은 한국 영화 역사상 흥행 기록을 세우며 큰 주목을 받았다.')"
      ]
     },
     "execution_count": 10,
     "metadata": {},
     "output_type": "execute_result"
    }
   ],
   "source": [
    "\n",
    "from langchain.chat_models import ChatOpenAI\n",
    "from langchain.prompts.few_shot import FewShotChatMessagePromptTemplate\n",
    "from langchain.callbacks import StreamingStdOutCallbackHandler\n",
    "from langchain.prompts import ChatMessagePromptTemplate, ChatPromptTemplate\n",
    "\n",
    "chat = ChatOpenAI(\n",
    "    temperature=0.1,\n",
    "    streaming=True,\n",
    "    callbacks=[\n",
    "        StreamingStdOutCallbackHandler(),\n",
    "    ],\n",
    ")\n",
    "\n",
    "examples = [\n",
    "    {\n",
    "        \"movie\": \"명량\",\n",
    "        \"information\": \"\"\"\n",
    "            영화 : 명량\n",
    "            장르 : 사극, 역사\n",
    "            감독 : 김한민\n",
    "            주요 출연진 : 최민식, 조진웅, 류승룡, 김명곤\n",
    "            예산 : 약 180억 원\n",
    "            흥행 수익 : 약 1350억 원\n",
    "            시놉시스 : 조선 시대 조마출신인 이순신이 일본의 대규모 함대를 상대로 한 명량 해전을 치른 역사적 사실을 바탕으로 한 영화이다. 이순신이 이끄는 명량함이 일본의 강력한 함대를 상대로 승리를 거두는 과정을 다루고 있다. 해당 영화는 한국 역사상 최대 규모의 해상 전투인 명량 해전을 재현하여 국내외에서 큰 주목을 받았다.\n",
    "        \"\"\",\n",
    "    },\n",
    "    {\n",
    "        \"movie\": \"추격자\",\n",
    "        \"information\": \"\"\"\n",
    "            영화 : 추격자\n",
    "            장르 : 액션, 범죄\n",
    "            감독 : 나홍진\n",
    "            주요 출연진 : 김윤석, 하정우, 조진웅\n",
    "            예산 : 약 6억 원\n",
    "            흥행 수익 : 약 4,000만 달러\n",
    "            시놉시스 : 한국의 범죄 조직과 경찰의 대치를 그린 영화로, 경찰 출신의 사나이가 범죄 조직을 추격하며 벌어지는 사건들을 다루고 있다. 강렬한 액션과 긴장감 넘치는 스토리로 관객들을 사로잡은 작품이다.\n",
    "        \"\"\",\n",
    "    },\n",
    "    {\n",
    "        \"movie\": \"아바타\",\n",
    "        \"information\": \"\"\"\n",
    "            영화 : 아바타 (Avatar)\n",
    "            장르 : SF, 액션, 모험\n",
    "            감독 : 제임스 카메론 (James Cameron)\n",
    "            주요 출연진 : 샘 워싱턴 (Sam Worthington), 조엘리토 노베디 (Zoe Saldana), 시고니 위버 (Sigourney Weaver)\n",
    "            예산 : 약 2억 37백만 달러\n",
    "            흥행 수익 : 전 세계적으로 27억 88백만 달러 이상의 수익을 올림\n",
    "            시놉시스 : 인류가 외계 행성 판도라에 상륙하여 아바타라는 생명체로 변신하여 현지 토착민과 소통하며 자원을 채취하는 과정에서 인류와 판도라 토착민들 간의 갈등과 우정을 그린 영화.\n",
    "        \"\"\",\n",
    "    },\n",
    "]\n",
    "\n",
    "\n",
    "example_prompt = ChatPromptTemplate.from_messages(\n",
    "    [\n",
    "        (\"human\", \"영화 {movie}에 대해서 알려줘\"),\n",
    "        (\"ai\", \"{information}\"),\n",
    "    ]\n",
    ")\n",
    "\n",
    "example_prompt = FewShotChatMessagePromptTemplate(\n",
    "    example_prompt=example_prompt,\n",
    "    examples=examples,\n",
    ")\n",
    "\n",
    "final_prompt = ChatPromptTemplate.from_messages(\n",
    "    [\n",
    "        (\"system\", \"영화 전문가로서, 정해진 양식에 맞게 정보를 알려줘.\"),\n",
    "        example_prompt,\n",
    "        (\"human\", \"영화 {movie}에 대해서 알려줘\"),\n",
    "    ]\n",
    ")\n",
    "\n",
    "chain = final_prompt | chat\n",
    "\n",
    "chain.invoke({\"movie\": \"베테랑\"})\n",
    "     "
   ]
  }
 ],
 "metadata": {
  "kernelspec": {
   "display_name": "env",
   "language": "python",
   "name": "python3"
  },
  "language_info": {
   "codemirror_mode": {
    "name": "ipython",
    "version": 3
   },
   "file_extension": ".py",
   "mimetype": "text/x-python",
   "name": "python",
   "nbconvert_exporter": "python",
   "pygments_lexer": "ipython3",
   "version": "3.11.6"
  }
 },
 "nbformat": 4,
 "nbformat_minor": 2
}
