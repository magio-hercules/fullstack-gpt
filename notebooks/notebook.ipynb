{
 "cells": [
  {
   "cell_type": "code",
   "execution_count": 15,
   "id": "41f9aa3d7c03129e",
   "metadata": {
    "ExecuteTime": {
     "end_time": "2024-08-26T14:38:02.398510Z",
     "start_time": "2024-08-26T14:38:01.600841Z"
    },
    "collapsed": false
   },
   "outputs": [
    {
     "name": "stdout",
     "output_type": "stream",
     "text": [
      "In the realm of code, where languages intertwine,\n",
      "There lies a tool, elegant and fine,\n",
      "Flutter, a dance of widgets in harmony,\n",
      "Crafting apps with beauty and unity.\n",
      "\n",
      "With Dart as its voice, concise and clear,\n",
      "Flutter sings of design, drawing near,\n",
      "Widgets flutter and dance on the screen,\n",
      "Creating a symphony, serene and keen.\n",
      "\n",
      "So take up your pen, let creativity flow,\n",
      "In the world of Flutter, watch your ideas grow,\n",
      "With animations and gestures, a sight to behold,\n",
      "Your app will shine, a story untold.In Homer's timeless verse, we find Flutter's tale,\n",
      "A world of code where languages prevail,\n",
      "With elegance and finesse, a tool divine,\n",
      "Crafting apps with beauty, in perfect line.\n",
      "\n",
      "Dart, the voice that speaks with clarity,\n",
      "Design and artistry, a symphony,\n",
      "Widgets dance and flutter on the screen,\n",
      "Creating a world, serene and keen.\n",
      "\n",
      "So let creativity flow, like a river's song,\n",
      "In Flutter's realm, where dreams belong,\n",
      "With animations and gestures bold,\n",
      "Your app will shine, a story untold."
     ]
    },
    {
     "data": {
      "text/plain": [
       "AIMessageChunk(content=\"In Homer's timeless verse, we find Flutter's tale,\\nA world of code where languages prevail,\\nWith elegance and finesse, a tool divine,\\nCrafting apps with beauty, in perfect line.\\n\\nDart, the voice that speaks with clarity,\\nDesign and artistry, a symphony,\\nWidgets dance and flutter on the screen,\\nCreating a world, serene and keen.\\n\\nSo let creativity flow, like a river's song,\\nIn Flutter's realm, where dreams belong,\\nWith animations and gestures bold,\\nYour app will shine, a story untold.\")"
      ]
     },
     "execution_count": 15,
     "metadata": {},
     "output_type": "execute_result"
    }
   ],
   "source": [
    "from langchain.chat_models.openai import ChatOpenAI\n",
    "from langchain.chat_models.ollama import ChatOllama\n",
    "from langchain.callbacks import StreamingStdOutCallbackHandler\n",
    "from langchain.schema import StrOutputParser\n",
    "from langchain.prompts import ChatPromptTemplate\n",
    "\n",
    "chat = ChatOpenAI(temperature=0.3, streaming=True, callbacks=[StreamingStdOutCallbackHandler()])\n",
    "\n",
    "poem_prompt = ChatPromptTemplate.from_messages([\n",
    "    (\"system\", \"You are Homer, an ancient Greek poet. You are an ancient person, but you can express modern programming languages in poetry. Present programming languages and you write poetry by adding literary beauty to it.\"),\n",
    "    (\"human\", \"I want to write {language}.\"),\n",
    "])\n",
    "poem_chain = poem_prompt | chat\n",
    "\n",
    "explanation_prompt = ChatPromptTemplate.from_messages([\n",
    "    (\"system\", \"You are a poet who specializes in analyzing and studying Homer's poems. Read Homer's poems and let the general public understand what he wants to convey easily.\"),\n",
    "    (\"human\", \"{poem}\"),\n",
    "])\n",
    "explanation_chain = explanation_prompt | chat\n",
    "\n",
    "final_chain = {\"poem\": poem_chain} | explanation_chain\n",
    "\n",
    "final_chain.invoke({\n",
    "    \"language\": \"flutter\"\n",
    "})"
   ]
  },
  {
   "cell_type": "code",
   "execution_count": 11,
   "id": "c3c75e0f62b21a52",
   "metadata": {
    "ExecuteTime": {
     "end_time": "2024-08-26T14:24:10.984939Z",
     "start_time": "2024-08-26T14:24:10.494112Z"
    },
    "collapsed": false
   },
   "outputs": [
    {
     "data": {
      "text/plain": [
       "['a', 'b', 'c']"
      ]
     },
     "execution_count": 11,
     "metadata": {},
     "output_type": "execute_result"
    }
   ],
   "source": [
    "from langchain.schema import BaseOutputParser\n",
    "\n",
    "class CommaOutpuParser(BaseOutputParser):\n",
    "    def parse(self, text):\n",
    "        items = text.strip().split(\",\")\n",
    "        return list(map(str.strip, items))\n",
    "    \n",
    "p= CommaOutpuParser()\n",
    "p.parse(\"a,b,c\")"
   ]
  }
 ],
 "metadata": {
  "kernelspec": {
   "display_name": "Python 3",
   "language": "python",
   "name": "python3"
  },
  "language_info": {
   "codemirror_mode": {
    "name": "ipython",
    "version": 3
   },
   "file_extension": ".py",
   "mimetype": "text/x-python",
   "name": "python",
   "nbconvert_exporter": "python",
   "pygments_lexer": "ipython3",
   "version": "3.11.6"
  }
 },
 "nbformat": 4,
 "nbformat_minor": 5
}
